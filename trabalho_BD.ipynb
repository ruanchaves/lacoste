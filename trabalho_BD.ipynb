{
 "cells": [
  {
   "cell_type": "code",
   "execution_count": 99,
   "metadata": {},
   "outputs": [],
   "source": [
    "#imports\n",
    "\n",
    "from gensim.models import Word2Vec\n",
    "from gensim.similarities.index import AnnoyIndexer\n",
    "import gensim\n",
    "\n",
    "import re\n",
    "import string\n",
    "import numpy as np\n",
    "\n",
    "import nltk\n",
    "from nltk import word_tokenize\n",
    "from nltk.stem.porter import PorterStemmer\n",
    "from nltk.stem.wordnet import WordNetLemmatizer\n",
    "from nltk import FreqDist\n",
    "\n",
    "from gensim.test.utils import common_texts\n",
    "from gensim.models import FastText\n",
    "from twitterscraper import query_tweets\n",
    "import json\n",
    "from collections import defaultdict\n",
    "import datetime as dt\n",
    "from langdetect import detect"
   ]
  },
  {
   "cell_type": "code",
   "execution_count": 145,
   "metadata": {},
   "outputs": [],
   "source": [
    "#settings\n",
    "\n",
    "dump_file = 'twitter_dump.json'\n",
    "query = ['lacoste']\n",
    "timeline_file = 'product_timeline.json'\n",
    "chosen_dir = '/home/ruan/w2v_bd/'\n",
    "start = dt.date(2018,1,1)"
   ]
  },
  {
   "cell_type": "code",
   "execution_count": 101,
   "metadata": {},
   "outputs": [
    {
     "name": "stderr",
     "output_type": "stream",
     "text": [
      "INFO: queries: ['lacoste since:2018-01-01 until:2018-01-18', 'lacoste since:2018-01-18 until:2018-02-04', 'lacoste since:2018-02-04 until:2018-02-21', 'lacoste since:2018-02-21 until:2018-03-10', 'lacoste since:2018-03-10 until:2018-03-27', 'lacoste since:2018-03-27 until:2018-04-13', 'lacoste since:2018-04-13 until:2018-04-30', 'lacoste since:2018-04-30 until:2018-05-17', 'lacoste since:2018-05-17 until:2018-06-03', 'lacoste since:2018-06-03 until:2018-06-20', 'lacoste since:2018-06-20 until:2018-07-07', 'lacoste since:2018-07-07 until:2018-07-24', 'lacoste since:2018-07-24 until:2018-08-10', 'lacoste since:2018-08-10 until:2018-08-27', 'lacoste since:2018-08-27 until:2018-09-13', 'lacoste since:2018-09-13 until:2018-09-30', 'lacoste since:2018-09-30 until:2018-10-17', 'lacoste since:2018-10-17 until:2018-11-03', 'lacoste since:2018-11-03 until:2018-11-20', 'lacoste since:2018-11-20 until:2018-12-08']\n",
      "INFO: Querying lacoste since:2018-01-18 until:2018-02-04\n",
      "INFO: Querying lacoste since:2018-02-21 until:2018-03-10\n",
      "INFO: Querying lacoste since:2018-01-01 until:2018-01-18\n",
      "INFO: Querying lacoste since:2018-02-04 until:2018-02-21\n",
      "INFO: Querying lacoste since:2018-03-10 until:2018-03-27\n",
      "INFO: Querying lacoste since:2018-07-07 until:2018-07-24\n",
      "INFO: Querying lacoste since:2018-05-17 until:2018-06-03\n",
      "INFO: Querying lacoste since:2018-06-03 until:2018-06-20\n",
      "INFO: Querying lacoste since:2018-08-10 until:2018-08-27\n",
      "INFO: Querying lacoste since:2018-04-30 until:2018-05-17\n",
      "INFO: Querying lacoste since:2018-06-20 until:2018-07-07\n",
      "INFO: Querying lacoste since:2018-04-13 until:2018-04-30\n",
      "INFO: Querying lacoste since:2018-08-27 until:2018-09-13\n",
      "INFO: Querying lacoste since:2018-07-24 until:2018-08-10\n",
      "INFO: Querying lacoste since:2018-03-27 until:2018-04-13\n",
      "INFO: Querying lacoste since:2018-09-30 until:2018-10-17\n",
      "INFO: Querying lacoste since:2018-10-17 until:2018-11-03\n",
      "INFO: Querying lacoste since:2018-11-20 until:2018-12-08\n",
      "INFO: Querying lacoste since:2018-11-03 until:2018-11-20\n",
      "INFO: Querying lacoste since:2018-09-13 until:2018-09-30\n",
      "INFO: Got 684 tweets for lacoste%20since%3A2018-02-21%20until%3A2018-03-10.\n",
      "INFO: Got 684 tweets (684 new).\n",
      "INFO: Got 1838 tweets for lacoste%20since%3A2018-10-17%20until%3A2018-11-03.\n",
      "INFO: Got 2522 tweets (1838 new).\n",
      "INFO: Got 5010 tweets for lacoste%20since%3A2018-11-20%20until%3A2018-12-08.\n",
      "INFO: Got 7532 tweets (5010 new).\n",
      "INFO: Got 5016 tweets for lacoste%20since%3A2018-11-03%20until%3A2018-11-20.\n",
      "INFO: Got 12548 tweets (5016 new).\n",
      "INFO: Got 5005 tweets for lacoste%20since%3A2018-01-18%20until%3A2018-02-04.\n",
      "INFO: Got 17553 tweets (5005 new).\n",
      "INFO: Got 5002 tweets for lacoste%20since%3A2018-04-30%20until%3A2018-05-17.\n",
      "INFO: Got 22555 tweets (5002 new).\n",
      "INFO: Got 5009 tweets for lacoste%20since%3A2018-05-17%20until%3A2018-06-03.\n",
      "INFO: Got 27564 tweets (5009 new).\n",
      "INFO: Got 5003 tweets for lacoste%20since%3A2018-02-04%20until%3A2018-02-21.\n",
      "INFO: Got 32567 tweets (5003 new).\n",
      "INFO: Got 5010 tweets for lacoste%20since%3A2018-07-07%20until%3A2018-07-24.\n",
      "INFO: Got 5010 tweets for lacoste%20since%3A2018-03-10%20until%3A2018-03-27.\n",
      "INFO: Got 37577 tweets (5010 new).\n",
      "INFO: Got 42587 tweets (5010 new).\n",
      "INFO: Got 5001 tweets for lacoste%20since%3A2018-09-13%20until%3A2018-09-30.\n",
      "INFO: Got 47588 tweets (5001 new).\n",
      "INFO: Got 5002 tweets for lacoste%20since%3A2018-01-01%20until%3A2018-01-18.\n",
      "INFO: Got 5008 tweets for lacoste%20since%3A2018-06-03%20until%3A2018-06-20.\n",
      "INFO: Got 52590 tweets (5002 new).\n",
      "INFO: Got 57598 tweets (5008 new).\n",
      "INFO: Got 5008 tweets for lacoste%20since%3A2018-04-13%20until%3A2018-04-30.\n",
      "INFO: Got 62606 tweets (5008 new).\n",
      "INFO: Got 5017 tweets for lacoste%20since%3A2018-07-24%20until%3A2018-08-10.\n",
      "INFO: Got 67623 tweets (5017 new).\n",
      "INFO: Got 5007 tweets for lacoste%20since%3A2018-08-10%20until%3A2018-08-27.\n",
      "INFO: Got 72630 tweets (5007 new).\n",
      "INFO: Got 5008 tweets for lacoste%20since%3A2018-03-27%20until%3A2018-04-13.\n",
      "INFO: Got 77638 tweets (5008 new).\n",
      "INFO: Got 5019 tweets for lacoste%20since%3A2018-06-20%20until%3A2018-07-07.\n",
      "INFO: Got 82657 tweets (5019 new).\n",
      "INFO: Got 5001 tweets for lacoste%20since%3A2018-09-30%20until%3A2018-10-17.\n",
      "INFO: Got 87658 tweets (5001 new).\n",
      "INFO: Got 5008 tweets for lacoste%20since%3A2018-08-27%20until%3A2018-09-13.\n",
      "INFO: Got 92666 tweets (5008 new).\n"
     ]
    }
   ],
   "source": [
    "\n",
    "dct = defaultdict(list)\n",
    "\n",
    "with open(dump_file, \"w+\") as f:\n",
    "    json.dump(dct, f)\n",
    "\n",
    "for q in query:\n",
    "    for tweet in query_tweets(q, limit=10**5, begindate=start):\n",
    "        try:\n",
    "            if detect(tweet.text) == 'pt':\n",
    "                unit = tweet.timestamp.month\n",
    "                dct[unit].append(tweet.text)\n",
    "        except:\n",
    "            continue\n",
    "\n",
    "with open(dump_file,\"w+\") as f:\n",
    "    json.dump(dct, f)"
   ]
  },
  {
   "cell_type": "code",
   "execution_count": 117,
   "metadata": {},
   "outputs": [
    {
     "name": "stdout",
     "output_type": "stream",
     "text": [
      "Quantidade de meses considerados:   12\n"
     ]
    }
   ],
   "source": [
    "with open(dump_file,\"r\") as f:\n",
    "    dct = json.load(f)\n",
    "\n",
    "print(\"Quantidade de meses considerados:  \", len(corpus))"
   ]
  },
  {
   "cell_type": "code",
   "execution_count": 118,
   "metadata": {},
   "outputs": [],
   "source": [
    "\n",
    "pp_corpus = []\n",
    "for key in dct.keys():\n",
    "    \n",
    "    unit_tweets = []\n",
    "    for txt in dct[key]:\n",
    "        txt = word_tokenize(txt)\n",
    "    \n",
    "        #remove punctuation\n",
    "        pattern = re.compile('[{}]'.format(re.escape(string.punctuation)))\n",
    "        txt = list(filter(None, [pattern.sub('', token) for token in txt]))\n",
    "    \n",
    "        #lowercase\n",
    "        txt = [x.lower() for x in txt]\n",
    "\n",
    "        #remove stopwords\n",
    "        sw = nltk.corpus.stopwords.words('portuguese')\n",
    "        txt = [w for w in txt if w not in sw]\n",
    "    \n",
    "        unit_tweets.append(txt)\n",
    "    pp_corpus.append(unit_tweets)\n",
    "        \n",
    "    "
   ]
  },
  {
   "cell_type": "code",
   "execution_count": 150,
   "metadata": {},
   "outputs": [],
   "source": [
    "model_list = []\n",
    "for unit in pp_corpus:\n",
    "    model = Word2Vec(unit, size=100, window=5, min_count=1, workers=4)\n",
    "    model_list.append(model)"
   ]
  },
  {
   "cell_type": "code",
   "execution_count": 152,
   "metadata": {},
   "outputs": [],
   "source": [
    "for idx, model in enumerate(model_list):\n",
    "    path = chosen_dir + 'word2vec_' + str(query[0]) + '_month_' + str(idx) + '.model'\n",
    "    model.wv.save_word2vec_format(path)"
   ]
  },
  {
   "cell_type": "code",
   "execution_count": null,
   "metadata": {},
   "outputs": [],
   "source": []
  }
 ],
 "metadata": {
  "kernelspec": {
   "display_name": "Python 3",
   "language": "python",
   "name": "python3"
  },
  "language_info": {
   "codemirror_mode": {
    "name": "ipython",
    "version": 3
   },
   "file_extension": ".py",
   "mimetype": "text/x-python",
   "name": "python",
   "nbconvert_exporter": "python",
   "pygments_lexer": "ipython3",
   "version": "3.6.6"
  }
 },
 "nbformat": 4,
 "nbformat_minor": 2
}
